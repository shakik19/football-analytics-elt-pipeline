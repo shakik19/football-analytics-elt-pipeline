{
 "cells": [
  {
   "cell_type": "code",
   "execution_count": 1,
   "metadata": {},
   "outputs": [],
   "source": [
    "import pandas as pd\n",
    "import pyarrow as pa\n",
    "import schemas\n",
    "from kaggle.api.kaggle_api_extended import KaggleApi"
   ]
  },
  {
   "cell_type": "code",
   "execution_count": 2,
   "metadata": {},
   "outputs": [],
   "source": [
    "def download_dataset(dataset_name=\"davidcariboo/player-scores\", destination_dir=\"../dataset/raw/\"):\n",
    "    api = KaggleApi()\n",
    "    api.authenticate()\n",
    "\n",
    "    api.dataset_download_files(dataset_name, path=destination_dir, unzip=True)"
   ]
  },
  {
   "cell_type": "code",
   "execution_count": 3,
   "metadata": {},
   "outputs": [
    {
     "data": {
      "text/plain": [
       "appearance_id             string[python]\n",
       "game_id                   string[python]\n",
       "player_id                 string[python]\n",
       "player_club_id            string[python]\n",
       "player_current_club_id    string[python]\n",
       "date                      datetime64[ns]\n",
       "player_name               string[python]\n",
       "competition_id            string[python]\n",
       "yellow_cards                       Int64\n",
       "red_cards                          Int64\n",
       "goals                              Int64\n",
       "assists                            Int64\n",
       "minutes_played                   Float64\n",
       "dtype: object"
      ]
     },
     "execution_count": 3,
     "metadata": {},
     "output_type": "execute_result"
    }
   ],
   "source": [
    "df = pd.read_csv(\"../dataset/raw/appearances.csv\", dtype=schemas.Appearances.schema,\n",
    "                parse_dates=schemas.Appearances.date_cols)\n",
    "df.dtypes"
   ]
  },
  {
   "cell_type": "code",
   "execution_count": 4,
   "metadata": {},
   "outputs": [
    {
     "data": {
      "text/plain": [
       "game_id                           Int64\n",
       "club_id                           Int64\n",
       "own_goals                         Int64\n",
       "own_position             string[python]\n",
       "own_manager_name         string[python]\n",
       "opponent_id                       Int64\n",
       "opponent_goals                    Int64\n",
       "opponent_position        string[python]\n",
       "opponent_manager_name    string[python]\n",
       "hosting                  string[python]\n",
       "is_win                            Int64\n",
       "dtype: object"
      ]
     },
     "execution_count": 4,
     "metadata": {},
     "output_type": "execute_result"
    }
   ],
   "source": [
    "df = pd.read_csv(\"../dataset/raw/club_games.csv\", dtype=schemas.Club_Games.schema)\n",
    "df.dtypes"
   ]
  },
  {
   "cell_type": "code",
   "execution_count": 5,
   "metadata": {},
   "outputs": [
    {
     "data": {
      "text/plain": [
       "club_id                             Int64\n",
       "club_code                  string[python]\n",
       "name                       string[python]\n",
       "domestic_competition_id    string[python]\n",
       "total_market_value                Float64\n",
       "squad_size                          Int64\n",
       "average_age                       Float64\n",
       "foreigners_number                   Int64\n",
       "foreigners_percentage             Float64\n",
       "national_team_players               Int64\n",
       "stadium_name               string[python]\n",
       "stadium_seats                       Int64\n",
       "net_transfer_record        string[python]\n",
       "coach_name                 string[python]\n",
       "last_season                         Int64\n",
       "filename                   string[python]\n",
       "url                        string[python]\n",
       "dtype: object"
      ]
     },
     "execution_count": 5,
     "metadata": {},
     "output_type": "execute_result"
    }
   ],
   "source": [
    "df = pd.read_csv(\"../dataset/raw/clubs.csv\", dtype=schemas.Clubs.schema)\n",
    "df.dtypes"
   ]
  },
  {
   "cell_type": "code",
   "execution_count": 6,
   "metadata": {},
   "outputs": [
    {
     "data": {
      "text/plain": [
       "competition_id              string[python]\n",
       "competition_code            string[python]\n",
       "name                        string[python]\n",
       "sub_type                    string[python]\n",
       "type                        string[python]\n",
       "country_id                           Int64\n",
       "country_name                string[python]\n",
       "domestic_league_code        string[python]\n",
       "confederation               string[python]\n",
       "url                         string[python]\n",
       "is_major_national_league           boolean\n",
       "dtype: object"
      ]
     },
     "execution_count": 6,
     "metadata": {},
     "output_type": "execute_result"
    }
   ],
   "source": [
    "df = pd.read_csv(\"../dataset/raw/competitions.csv\", dtype=schemas.Competitions.schema)\n",
    "df.dtypes"
   ]
  },
  {
   "cell_type": "code",
   "execution_count": 7,
   "metadata": {},
   "outputs": [
    {
     "data": {
      "text/plain": [
       "game_event_id       string[python]\n",
       "date                string[python]\n",
       "game_id                      Int64\n",
       "minute                       Int64\n",
       "type                string[python]\n",
       "club_id                      Int64\n",
       "player_id                    Int64\n",
       "description         string[python]\n",
       "player_in_id               Float64\n",
       "player_assist_id           Float64\n",
       "dtype: object"
      ]
     },
     "execution_count": 7,
     "metadata": {},
     "output_type": "execute_result"
    }
   ],
   "source": [
    "df = pd.read_csv(\"../dataset/raw/game_events.csv\", dtype=schemas.Game_Events.schema)\n",
    "df.dtypes"
   ]
  },
  {
   "cell_type": "code",
   "execution_count": 8,
   "metadata": {},
   "outputs": [
    {
     "data": {
      "text/plain": [
       "game_lineups_id    string[python]\n",
       "date               datetime64[ns]\n",
       "game_id                     Int64\n",
       "player_id                   Int64\n",
       "club_id                     Int64\n",
       "player_name        string[python]\n",
       "type               string[python]\n",
       "position           string[python]\n",
       "number             string[python]\n",
       "team_captain                Int64\n",
       "dtype: object"
      ]
     },
     "execution_count": 8,
     "metadata": {},
     "output_type": "execute_result"
    }
   ],
   "source": [
    "df = pd.read_csv(\"../dataset/raw/game_lineups.csv\", dtype=schemas.Game_Lineups.schema,\n",
    "                 parse_dates=schemas.Game_Lineups.date_cols)\n",
    "df.dtypes"
   ]
  },
  {
   "cell_type": "code",
   "execution_count": 9,
   "metadata": {},
   "outputs": [
    {
     "data": {
      "text/plain": [
       "game_id                            Int64\n",
       "competition_id            string[python]\n",
       "season                             Int64\n",
       "round                     string[python]\n",
       "date                      datetime64[ns]\n",
       "home_club_id                       Int64\n",
       "away_club_id                       Int64\n",
       "home_club_goals                    Int64\n",
       "away_club_goals                    Int64\n",
       "home_club_position               Float64\n",
       "away_club_position               Float64\n",
       "home_club_manager_name    string[python]\n",
       "away_club_manager_name    string[python]\n",
       "stadium                   string[python]\n",
       "attendance                       Float64\n",
       "referee                   string[python]\n",
       "url                       string[python]\n",
       "home_club_formation       string[python]\n",
       "away_club_formation       string[python]\n",
       "home_club_name            string[python]\n",
       "away_club_name            string[python]\n",
       "aggregate                 string[python]\n",
       "competition_type          string[python]\n",
       "dtype: object"
      ]
     },
     "execution_count": 9,
     "metadata": {},
     "output_type": "execute_result"
    }
   ],
   "source": [
    "df = pd.read_csv(\"../dataset/raw/games.csv\", dtype=schemas.Games.schema,\n",
    "                 parse_dates=schemas.Games.date_cols)\n",
    "df.dtypes"
   ]
  },
  {
   "cell_type": "code",
   "execution_count": 10,
   "metadata": {},
   "outputs": [
    {
     "data": {
      "text/plain": [
       "player_id                                       Int64\n",
       "date                                   datetime64[ns]\n",
       "market_value_in_eur                             Int64\n",
       "current_club_id                                 Int64\n",
       "player_club_domestic_competition_id    string[python]\n",
       "dtype: object"
      ]
     },
     "execution_count": 10,
     "metadata": {},
     "output_type": "execute_result"
    }
   ],
   "source": [
    "df = pd.read_csv(\"../dataset/raw/player_valuations.csv\", dtype=schemas.Player_Valuations.schema,\n",
    "                 parse_dates=schemas.Player_Valuations.date_cols)\n",
    "df.dtypes"
   ]
  },
  {
   "cell_type": "code",
   "execution_count": 11,
   "metadata": {},
   "outputs": [
    {
     "data": {
      "text/html": [
       "<div>\n",
       "<style scoped>\n",
       "    .dataframe tbody tr th:only-of-type {\n",
       "        vertical-align: middle;\n",
       "    }\n",
       "\n",
       "    .dataframe tbody tr th {\n",
       "        vertical-align: top;\n",
       "    }\n",
       "\n",
       "    .dataframe thead th {\n",
       "        text-align: right;\n",
       "    }\n",
       "</style>\n",
       "<table border=\"1\" class=\"dataframe\">\n",
       "  <thead>\n",
       "    <tr style=\"text-align: right;\">\n",
       "      <th></th>\n",
       "      <th>player_id</th>\n",
       "      <th>date</th>\n",
       "      <th>market_value_in_eur</th>\n",
       "      <th>current_club_id</th>\n",
       "      <th>player_club_domestic_competition_id</th>\n",
       "    </tr>\n",
       "  </thead>\n",
       "  <tbody>\n",
       "    <tr>\n",
       "      <th>466892</th>\n",
       "      <td>769063</td>\n",
       "      <td>2024-03-21</td>\n",
       "      <td>5000000</td>\n",
       "      <td>3302</td>\n",
       "      <td>ES1</td>\n",
       "    </tr>\n",
       "    <tr>\n",
       "      <th>466893</th>\n",
       "      <td>826224</td>\n",
       "      <td>2024-03-21</td>\n",
       "      <td>10000000</td>\n",
       "      <td>12321</td>\n",
       "      <td>ES1</td>\n",
       "    </tr>\n",
       "    <tr>\n",
       "      <th>466894</th>\n",
       "      <td>844637</td>\n",
       "      <td>2024-03-21</td>\n",
       "      <td>3000000</td>\n",
       "      <td>3302</td>\n",
       "      <td>ES1</td>\n",
       "    </tr>\n",
       "    <tr>\n",
       "      <th>466895</th>\n",
       "      <td>895480</td>\n",
       "      <td>2024-03-21</td>\n",
       "      <td>1000000</td>\n",
       "      <td>621</td>\n",
       "      <td>ES1</td>\n",
       "    </tr>\n",
       "    <tr>\n",
       "      <th>466896</th>\n",
       "      <td>937955</td>\n",
       "      <td>2024-03-21</td>\n",
       "      <td>7500000</td>\n",
       "      <td>131</td>\n",
       "      <td>ES1</td>\n",
       "    </tr>\n",
       "    <tr>\n",
       "      <th>466897</th>\n",
       "      <td>937958</td>\n",
       "      <td>2024-03-21</td>\n",
       "      <td>75000000</td>\n",
       "      <td>131</td>\n",
       "      <td>ES1</td>\n",
       "    </tr>\n",
       "    <tr>\n",
       "      <th>466898</th>\n",
       "      <td>938158</td>\n",
       "      <td>2024-03-21</td>\n",
       "      <td>7500000</td>\n",
       "      <td>131</td>\n",
       "      <td>ES1</td>\n",
       "    </tr>\n",
       "    <tr>\n",
       "      <th>466899</th>\n",
       "      <td>941869</td>\n",
       "      <td>2024-03-21</td>\n",
       "      <td>500000</td>\n",
       "      <td>3709</td>\n",
       "      <td>ES1</td>\n",
       "    </tr>\n",
       "    <tr>\n",
       "      <th>466900</th>\n",
       "      <td>962110</td>\n",
       "      <td>2024-03-21</td>\n",
       "      <td>25000000</td>\n",
       "      <td>131</td>\n",
       "      <td>ES1</td>\n",
       "    </tr>\n",
       "    <tr>\n",
       "      <th>466901</th>\n",
       "      <td>991268</td>\n",
       "      <td>2024-03-21</td>\n",
       "      <td>40000000</td>\n",
       "      <td>1108</td>\n",
       "      <td>ES1</td>\n",
       "    </tr>\n",
       "  </tbody>\n",
       "</table>\n",
       "</div>"
      ],
      "text/plain": [
       "        player_id       date  market_value_in_eur  current_club_id  \\\n",
       "466892     769063 2024-03-21              5000000             3302   \n",
       "466893     826224 2024-03-21             10000000            12321   \n",
       "466894     844637 2024-03-21              3000000             3302   \n",
       "466895     895480 2024-03-21              1000000              621   \n",
       "466896     937955 2024-03-21              7500000              131   \n",
       "466897     937958 2024-03-21             75000000              131   \n",
       "466898     938158 2024-03-21              7500000              131   \n",
       "466899     941869 2024-03-21               500000             3709   \n",
       "466900     962110 2024-03-21             25000000              131   \n",
       "466901     991268 2024-03-21             40000000             1108   \n",
       "\n",
       "       player_club_domestic_competition_id  \n",
       "466892                                 ES1  \n",
       "466893                                 ES1  \n",
       "466894                                 ES1  \n",
       "466895                                 ES1  \n",
       "466896                                 ES1  \n",
       "466897                                 ES1  \n",
       "466898                                 ES1  \n",
       "466899                                 ES1  \n",
       "466900                                 ES1  \n",
       "466901                                 ES1  "
      ]
     },
     "execution_count": 11,
     "metadata": {},
     "output_type": "execute_result"
    }
   ],
   "source": [
    "df.tail(10)"
   ]
  }
 ],
 "metadata": {
  "kernelspec": {
   "display_name": ".env",
   "language": "python",
   "name": "python3"
  },
  "language_info": {
   "codemirror_mode": {
    "name": "ipython",
    "version": 3
   },
   "file_extension": ".py",
   "mimetype": "text/x-python",
   "name": "python",
   "nbconvert_exporter": "python",
   "pygments_lexer": "ipython3",
   "version": "3.10.12"
  }
 },
 "nbformat": 4,
 "nbformat_minor": 2
}
